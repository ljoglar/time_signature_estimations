{
 "cells": [
  {
   "cell_type": "code",
   "execution_count": 2,
   "metadata": {},
   "outputs": [
    {
     "ename": "SyntaxError",
     "evalue": "invalid syntax (get_preview_url.py, line 29)",
     "output_type": "error",
     "traceback": [
      "Traceback \u001b[0;36m(most recent call last)\u001b[0m:\n",
      "  File \u001b[1;32m\"/home/ljoglar/.pyenv/versions/3.6.8/lib/python3.6/site-packages/IPython/core/interactiveshell.py\"\u001b[0m, line \u001b[1;32m3291\u001b[0m, in \u001b[1;35mrun_code\u001b[0m\n    exec(code_obj, self.user_global_ns, self.user_ns)\n",
      "\u001b[0;36m  File \u001b[0;32m\"<ipython-input-2-4795a06180b2>\"\u001b[0;36m, line \u001b[0;32m3\u001b[0;36m, in \u001b[0;35m<module>\u001b[0;36m\u001b[0m\n\u001b[0;31m    from get_preview_url.py import get_preview_from_trackid\u001b[0m\n",
      "\u001b[0;36m  File \u001b[0;32m\"/home/ljoglar/Documents/MTG/MIR/DataSet/time_signature_estimations/get_preview_url.py\"\u001b[0;36m, line \u001b[0;32m29\u001b[0m\n\u001b[0;31m    print 'no argmin function (no numpy or scipy), might cause problems'\u001b[0m\n\u001b[0m                                                                       ^\u001b[0m\n\u001b[0;31mSyntaxError\u001b[0m\u001b[0;31m:\u001b[0m invalid syntax\n"
     ]
    }
   ],
   "source": [
    "import h5py\n",
    "import os\n",
    "from get_preview_url.py import get_preview_from_trackid"
   ]
  },
  {
   "cell_type": "code",
   "execution_count": null,
   "metadata": {},
   "outputs": [],
   "source": [
    "def get_tracks_from_artistid(artistid):\n",
    "    \"\"\"\n",
    "    We get a list of release from artists.\n",
    "    For each of these, get release.\n",
    "    After calling the API with a given release ID, we receive a list of tracks.\n",
    "    We return a map of <track name> -> <track id>\n",
    "    or None if there is a problem\n",
    "    \"\"\"\n",
    "    url = 'http://api.7digital.com/1.2/artist/releases?'\n",
    "    url += '&artistid='+str(artistid)\n",
    "    url += '&oauth_consumer_key='+DIGITAL7_API_KEY\n",
    "    xmldoc = url_call(url)\n",
    "    status = xmldoc.getAttribute('status')\n",
    "    if status != 'ok':\n",
    "        return None\n",
    "    releaseselem = xmldoc.getElementsByTagName('releases')[0]\n",
    "    releases = releaseselem.getElementsByTagName('release')\n",
    "    if len(releases) == 0:\n",
    "        return None\n",
    "    releases_ids = map(lambda x: int(x.getAttribute('id')), releases)\n",
    "    res = {}\n",
    "    for rid in releases_ids:\n",
    "        tmpres = get_tracks_from_releaseid(rid)\n",
    "        if tmpres is not None:\n",
    "            res.update(tmpres)\n",
    "    return res"
   ]
  },
  {
   "cell_type": "code",
   "execution_count": 9,
   "metadata": {},
   "outputs": [],
   "source": [
    "path = '../../MillionSongSubset/data/A/A/A'\n",
    "name = 'TRAAAAW128F429D538'\n",
    "fo = '.h5'\n",
    "\n",
    "filename = os.path.join(path, name+fo)\n",
    "\n",
    "f = h5py.File(filename, 'r')"
   ]
  },
  {
   "cell_type": "code",
   "execution_count": 10,
   "metadata": {},
   "outputs": [
    {
     "data": {
      "text/plain": [
       "<HDF5 file \"TRAAAAW128F429D538.h5\" (mode r)>"
      ]
     },
     "execution_count": 10,
     "metadata": {},
     "output_type": "execute_result"
    }
   ],
   "source": [
    "f"
   ]
  },
  {
   "cell_type": "code",
   "execution_count": 11,
   "metadata": {},
   "outputs": [
    {
     "name": "stdout",
     "output_type": "stream",
     "text": [
      "Keys: <KeysViewHDF5 ['analysis', 'metadata', 'musicbrainz']>\n"
     ]
    }
   ],
   "source": [
    "print(\"Keys: %s\" % f.keys())\n",
    "a_group_key = list(f.keys())[0]\n"
   ]
  },
  {
   "cell_type": "code",
   "execution_count": 13,
   "metadata": {},
   "outputs": [
    {
     "data": {
      "text/plain": [
       "['bars_confidence',\n",
       " 'bars_start',\n",
       " 'beats_confidence',\n",
       " 'beats_start',\n",
       " 'sections_confidence',\n",
       " 'sections_start',\n",
       " 'segments_confidence',\n",
       " 'segments_loudness_max',\n",
       " 'segments_loudness_max_time',\n",
       " 'segments_loudness_start',\n",
       " 'segments_pitches',\n",
       " 'segments_start',\n",
       " 'segments_timbre',\n",
       " 'songs',\n",
       " 'tatums_confidence',\n",
       " 'tatums_start']"
      ]
     },
     "execution_count": 13,
     "metadata": {},
     "output_type": "execute_result"
    }
   ],
   "source": [
    "data = list(f[a_group_key])\n",
    "data"
   ]
  },
  {
   "cell_type": "code",
   "execution_count": 29,
   "metadata": {},
   "outputs": [
    {
     "data": {
      "text/plain": [
       "array([4], dtype=int32)"
      ]
     },
     "execution_count": 29,
     "metadata": {},
     "output_type": "execute_result"
    }
   ],
   "source": [
    "time_sig = f[a_group_key]['songs']['time_signature']\n",
    "time_sig"
   ]
  },
  {
   "cell_type": "code",
   "execution_count": 28,
   "metadata": {},
   "outputs": [
    {
     "data": {
      "text/plain": [
       "array([0.778])"
      ]
     },
     "execution_count": 28,
     "metadata": {},
     "output_type": "execute_result"
    }
   ],
   "source": [
    "conf = songs = f[a_group_key]['songs']['time_signature_confidence']\n",
    "conf"
   ]
  },
  {
   "cell_type": "code",
   "execution_count": null,
   "metadata": {},
   "outputs": [],
   "source": []
  }
 ],
 "metadata": {
  "kernelspec": {
   "display_name": "Python 3",
   "language": "python",
   "name": "python3"
  },
  "language_info": {
   "codemirror_mode": {
    "name": "ipython",
    "version": 3
   },
   "file_extension": ".py",
   "mimetype": "text/x-python",
   "name": "python",
   "nbconvert_exporter": "python",
   "pygments_lexer": "ipython3",
   "version": "3.6.8"
  }
 },
 "nbformat": 4,
 "nbformat_minor": 2
}
