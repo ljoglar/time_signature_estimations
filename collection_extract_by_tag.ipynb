{
 "cells": [
  {
   "cell_type": "code",
   "execution_count": 2,
   "metadata": {},
   "outputs": [],
   "source": [
    "import csv\n",
    "import pandas as pd\n",
    "import xml.etree.ElementTree as ET"
   ]
  },
  {
   "cell_type": "code",
   "execution_count": 3,
   "metadata": {},
   "outputs": [],
   "source": [
    "path_to_csv = '../annotations_final.csv'\n",
    "path_to_collection = \"../mp3\"\n",
    "path_to_xml = '../mp3_echonest_xml'\n",
    "pd_annotations = pd.read_csv(path_to_csv, '\\t')"
   ]
  },
  {
   "cell_type": "code",
   "execution_count": 34,
   "metadata": {
    "scrolled": true
   },
   "outputs": [],
   "source": [
    "def getTrackCollection(tag='rock', num=1, minConfidence=0.8):\n",
    "    collection = {}\n",
    "    for i in range(pd_annotations.shape[1]):\n",
    "        if pd_annotations[tag][i] == 1:\n",
    "            xml_track = ET.parse(path_to_xml + '/' + pd_annotations['mp3_path'][i] + '.xml').getroot()\n",
    "            for child in xml_track:\n",
    "                if float(child.attrib['timeSignatureConfidence']) >= minConfidence:\n",
    "                    if child.attrib['timeSignature'] not in collection:\n",
    "                        collection[child.attrib['timeSignature']] = []\n",
    "                    if len(collection[child.attrib['timeSignature']]) < num:\n",
    "                        if float(child.attrib['timeSignatureConfidence']) >= minConfidence:\n",
    "                            collection[child.attrib['timeSignature']].append({'path': pd_annotations['mp3_path'][i],\n",
    "                                                                          'timeSignatureConfidence': child.attrib['timeSignatureConfidence'],\n",
    "                                                                          'tempo':child.attrib['tempo']})    \n",
    "    return collection"
   ]
  },
  {
   "cell_type": "code",
   "execution_count": 35,
   "metadata": {},
   "outputs": [
    {
     "name": "stdout",
     "output_type": "stream",
     "text": [
      "4\n",
      "f/american_bach_soloists-j_s__bach_solo_cantatas-01-bwv54__i_aria-30-59.mp3\n",
      "f/american_bach_soloists-j_s__bach_solo_cantatas-01-bwv54__i_aria-146-175.mp3\n",
      "f/american_bach_soloists-j_s__bach_solo_cantatas-01-bwv54__i_aria-262-291.mp3\n",
      "3\n",
      "0/american_bach_soloists-j_s__bach__cantatas_volume_v-01-gleichwie_der_regen_und_schnee_vom_himmel_fallt_bwv_18_i_sinfonia-117-146.mp3\n",
      "9/american_bach_soloists-heinrich_schutz__musicalische_exequien-01-musicalische_exequien_swv_279_teil_i_concert_in_form_einer_teutschen_begrabnismissa-407-436.mp3\n",
      "9/american_bach_soloists-heinrich_schutz__musicalische_exequien-01-musicalische_exequien_swv_279_teil_i_concert_in_form_einer_teutschen_begrabnismissa-1248-1277.mp3\n",
      "0\n",
      "6/ralph_meulenbroeks-gambomania-01-my_mistress_hath_a_pritty_thing_tobias_hume-59-88.mp3\n",
      "6/ralph_meulenbroeks-gambomania-01-my_mistress_hath_a_pritty_thing_tobias_hume-117-146.mp3\n",
      "6/ralph_meulenbroeks-gambomania-01-my_mistress_hath_a_pritty_thing_tobias_hume-175-204.mp3\n",
      "7\n",
      "5/new_york_consort_of_viols-dances_and_canzonas_of_holborne_and_brade-01-3_almaines_holborne-262-291.mp3\n"
     ]
    }
   ],
   "source": [
    "for timeSig, paths in getTrackCollection('classical', 3, 0.8).items():\n",
    "    print(timeSig)\n",
    "    for path in paths:\n",
    "        #if float(path['timeSignatureConfidence']) < 0.8:\n",
    "        #    continue\n",
    "        \n",
    "        print(path['path'])\n",
    "        #XXXX(path['path'])\n"
   ]
  },
  {
   "cell_type": "code",
   "execution_count": 6,
   "metadata": {},
   "outputs": [
    {
     "name": "stdout",
     "output_type": "stream",
     "text": [
      "{'4': [{'path': 'c/lvx_nova-lvx_nova-01-contimune-233-262.mp3', 'timeSignatureConfidence': '1.000', 'tempo': '82.517'}], '0': [{'path': 'e/burning_babylon-stereo_mash_up-01-7_nine_skank-88-117.mp3', 'timeSignatureConfidence': '0.952', 'tempo': '189.529'}], '7': [{'path': 'c/mountain_mirrors-lunar_ecstasy-01-a_short_burst_of_clarity-146-175.mp3', 'timeSignatureConfidence': '1.000', 'tempo': '147.079'}]}\n",
      "{'4': [{'path': 'f/pain_factor-8_seconds-01-8_seconds-59-88.mp3', 'timeSignatureConfidence': '0.949', 'tempo': '145.788'}]}\n",
      "{'0': [{'path': 'e/burning_babylon-stereo_mash_up-01-7_nine_skank-88-117.mp3', 'timeSignatureConfidence': '0.952', 'tempo': '189.529'}], '4': [{'path': '4/justin_bianco-siren-01-another_century-30-59.mp3', 'timeSignatureConfidence': '0.919', 'tempo': '99.783'}]}\n",
      "{'4': [{'path': 'f/american_bach_soloists-j_s__bach_solo_cantatas-01-bwv54__i_aria-30-59.mp3', 'timeSignatureConfidence': '0.978', 'tempo': '128.625'}], '3': [{'path': '9/american_bach_soloists-heinrich_schutz__musicalische_exequien-01-musicalische_exequien_swv_279_teil_i_concert_in_form_einer_teutschen_begrabnismissa-30-59.mp3', 'timeSignatureConfidence': '1.000', 'tempo': '57.225'}], '0': [{'path': '9/american_bach_soloists-heinrich_schutz__musicalische_exequien-01-musicalische_exequien_swv_279_teil_i_concert_in_form_einer_teutschen_begrabnismissa-146-175.mp3', 'timeSignatureConfidence': '0.720', 'tempo': '153.512'}], '5': [{'path': '9/american_bach_soloists-heinrich_schutz__musicalische_exequien-01-musicalische_exequien_swv_279_teil_i_concert_in_form_einer_teutschen_begrabnismissa-784-813.mp3', 'timeSignatureConfidence': '0.736', 'tempo': '234.659'}], '7': [{'path': '9/american_bach_soloists-heinrich_schutz__musicalische_exequien-01-musicalische_exequien_swv_279_teil_i_concert_in_form_einer_teutschen_begrabnismissa-1190-1219.mp3', 'timeSignatureConfidence': '0.520', 'tempo': '114.838'}]}\n",
      "{'4': [{'path': 'f/american_bach_soloists-j_s__bach_solo_cantatas-01-bwv54__i_aria-30-59.mp3', 'timeSignatureConfidence': '0.978', 'tempo': '128.625'}], '3': [{'path': '0/american_bach_soloists-j_s__bach__cantatas_volume_v-01-gleichwie_der_regen_und_schnee_vom_himmel_fallt_bwv_18_i_sinfonia-117-146.mp3', 'timeSignatureConfidence': '1.000', 'tempo': '123.280'}], '0': [{'path': '9/american_bach_soloists-heinrich_schutz__musicalische_exequien-01-musicalische_exequien_swv_279_teil_i_concert_in_form_einer_teutschen_begrabnismissa-494-523.mp3', 'timeSignatureConfidence': '0.308', 'tempo': '63.117'}], '5': [{'path': '9/american_bach_soloists-heinrich_schutz__musicalische_exequien-01-musicalische_exequien_swv_279_teil_i_concert_in_form_einer_teutschen_begrabnismissa-784-813.mp3', 'timeSignatureConfidence': '0.736', 'tempo': '234.659'}], '7': [{'path': '5/new_york_consort_of_viols-dances_and_canzonas_of_holborne_and_brade-01-3_almaines_holborne-233-262.mp3', 'timeSignatureConfidence': '0.511', 'tempo': '260.663'}]}\n",
      "{'4': [{'path': 'e/burning_babylon-stereo_mash_up-01-7_nine_skank-175-204.mp3', 'timeSignatureConfidence': '0.975', 'tempo': '71.012'}]}\n",
      "{'4': [{'path': 'f/professor_armchair-too_much_mustard-01-a_signal_from_mars-59-88.mp3', 'timeSignatureConfidence': '0.531', 'tempo': '95.137'}]}\n",
      "{}\n",
      "{'3': [{'path': 'e/steven_devine-portrait_of_an_english_harpsichord-01-lesson_1_in_g_major_prelude_james_nares-0-29.mp3', 'timeSignatureConfidence': '1.000', 'tempo': '80.772'}], '4': [{'path': '0/rocket_city_riot-last_of_the_pleasure_seekers-01-under_the_bright_lights-146-175.mp3', 'timeSignatureConfidence': '1.000', 'tempo': '93.408'}], '0': [{'path': '5/new_york_consort_of_viols-dances_and_canzonas_of_holborne_and_brade-01-3_almaines_holborne-320-349.mp3', 'timeSignatureConfidence': '0.000', 'tempo': '152.993'}], '7': [{'path': 'c/mountain_mirrors-lunar_ecstasy-01-a_short_burst_of_clarity-146-175.mp3', 'timeSignatureConfidence': '1.000', 'tempo': '147.079'}]}\n",
      "{'3': [{'path': '5/john_fleagle-worlds_bliss__medieval_songs_of_love_and_death-01-alysoun-30-59.mp3', 'timeSignatureConfidence': '0.399', 'tempo': '113.203'}]}\n",
      "{'4': [{'path': 'c/lvx_nova-lvx_nova-01-contimune-233-262.mp3', 'timeSignatureConfidence': '1.000', 'tempo': '82.517'}], '3': [{'path': 'e/steven_devine-portrait_of_an_english_harpsichord-01-lesson_1_in_g_major_prelude_james_nares-30-59.mp3', 'timeSignatureConfidence': '0.000', 'tempo': '91.691'}], '0': [{'path': '6/ralph_meulenbroeks-gambomania-01-my_mistress_hath_a_pritty_thing_tobias_hume-59-88.mp3', 'timeSignatureConfidence': '0.934', 'tempo': '132.744'}], '7': [{'path': '1/ambient_teknology-phoenix-01-ambient_teknology-320-349.mp3', 'timeSignatureConfidence': '0.502', 'tempo': '139.290'}]}\n",
      "{'7': [{'path': '5/john_fleagle-worlds_bliss__medieval_songs_of_love_and_death-01-alysoun-0-29.mp3', 'timeSignatureConfidence': '0.696', 'tempo': '70.817'}], '3': [{'path': '5/john_fleagle-worlds_bliss__medieval_songs_of_love_and_death-01-alysoun-30-59.mp3', 'timeSignatureConfidence': '0.399', 'tempo': '113.203'}]}\n",
      "{'3': [{'path': '1/tim_rayborn-ashek-01-ashek-436-465.mp3', 'timeSignatureConfidence': '1.000', 'tempo': '82.256'}]}\n",
      "{'4': [{'path': '8/kenji_williams-worldspirit_soundtrack-01-artists_prayer-262-291.mp3', 'timeSignatureConfidence': '0.092', 'tempo': '132.834'}]}\n",
      "{'4': [{'path': 'f/the_headroom_project-jetuton_andawai-01-linda_morena-59-88.mp3', 'timeSignatureConfidence': '0.832', 'tempo': '80.362'}], '3': [{'path': '1/tim_rayborn-ashek-01-ashek-378-407.mp3', 'timeSignatureConfidence': '0.307', 'tempo': '132.468'}]}\n",
      "{'4': [{'path': '9/philharmonia_baroque_orchestra-jake_heggie__to_hell_and_back-01-overture-59-88.mp3', 'timeSignatureConfidence': '0.943', 'tempo': '59.155'}], '3': [{'path': '9/philharmonia_baroque_orchestra-jake_heggie__to_hell_and_back-01-overture-117-146.mp3', 'timeSignatureConfidence': '1.000', 'tempo': '56.347'}]}\n",
      "{'4': [{'path': '6/mercy_machine-the_devil_i_know-01-30_years-262-291.mp3', 'timeSignatureConfidence': '1.000', 'tempo': '62.039'}], '3': [{'path': 'c/jamie_janover-now_center_of_time-01-arc-291-320.mp3', 'timeSignatureConfidence': '0.984', 'tempo': '162.568'}]}\n",
      "{'3': [{'path': '5/john_fleagle-worlds_bliss__medieval_songs_of_love_and_death-01-alysoun-30-59.mp3', 'timeSignatureConfidence': '0.399', 'tempo': '113.203'}]}\n",
      "{'4': [{'path': '9/american_bach_soloists-heinrich_schutz__musicalische_exequien-01-musicalische_exequien_swv_279_teil_i_concert_in_form_einer_teutschen_begrabnismissa-349-378.mp3', 'timeSignatureConfidence': '0.430', 'tempo': '52.336'}], '0': [{'path': '9/american_bach_soloists-heinrich_schutz__musicalische_exequien-01-musicalische_exequien_swv_279_teil_i_concert_in_form_einer_teutschen_begrabnismissa-813-842.mp3', 'timeSignatureConfidence': '0.810', 'tempo': '189.511'}]}\n",
      "{'0': [{'path': 'e/burning_babylon-stereo_mash_up-01-7_nine_skank-88-117.mp3', 'timeSignatureConfidence': '0.952', 'tempo': '189.529'}], '4': [{'path': '1/ambient_teknology-phoenix-01-ambient_teknology-0-29.mp3', 'timeSignatureConfidence': '1.000', 'tempo': '140.047'}]}\n",
      "{'4': [{'path': 'c/lvx_nova-lvx_nova-01-contimune-30-59.mp3', 'timeSignatureConfidence': '1.000', 'tempo': '82.598'}], '3': [{'path': 'e/burning_babylon-stereo_mash_up-01-7_nine_skank-146-175.mp3', 'timeSignatureConfidence': '1.000', 'tempo': '141.964'}], '0': [{'path': 'f/professor_armchair-too_much_mustard-01-a_signal_from_mars-0-29.mp3', 'timeSignatureConfidence': '0.510', 'tempo': '84.538'}], '7': [{'path': '1/ambient_teknology-phoenix-01-ambient_teknology-320-349.mp3', 'timeSignatureConfidence': '0.502', 'tempo': '139.290'}]}\n",
      "{'4': [{'path': '4/justin_bianco-siren-01-another_century-30-59.mp3', 'timeSignatureConfidence': '0.919', 'tempo': '99.783'}]}\n"
     ]
    }
   ],
   "source": [
    "'heavy', 'jazz', 'opera','funk', 'funky', 'electronica', 'guitar', 'folk', 'fast', 'irish', 'arabic', 'instrumental',\n",
    "'spanish', 'orchestra', 'piano', 'celtic', 'woman', 'dance', 'techno', 'hip hop'\n",
    "getTrackCollection('rock', 1)\n",
    "getTrackCollection('heavy', 1)\n",
    "getTrackCollection('jazz', 1)\n",
    "getTrackCollection('opera', 1)\n",
    "getTrackCollection('classical', 1)\n",
    "getTrackCollection('funk', 1)\n",
    "getTrackCollection('funky', 1)\n",
    "getTrackCollection('electronica', 1)\n",
    "getTrackCollection('guitar', 1)\n",
    "getTrackCollection('folk', 1)\n",
    "getTrackCollection('fast', 1)\n",
    "getTrackCollection('irish', 1)\n",
    "getTrackCollection('arabic', 1)\n",
    "getTrackCollection('instrumental', 1)\n",
    "getTrackCollection('spanish', 1)\n",
    "getTrackCollection('orchestra', 1)\n",
    "getTrackCollection('piano', 1)\n",
    "getTrackCollection('celtic', 1)\n",
    "getTrackCollection('woman', 1)\n",
    "getTrackCollection('dance', 1)\n",
    "getTrackCollection('techno', 1)\n",
    "getTrackCollection('hip hop', 1)"
   ]
  },
  {
   "cell_type": "code",
   "execution_count": null,
   "metadata": {},
   "outputs": [],
   "source": []
  }
 ],
 "metadata": {
  "kernelspec": {
   "display_name": "Python 3",
   "language": "python",
   "name": "python3"
  },
  "language_info": {
   "codemirror_mode": {
    "name": "ipython",
    "version": 3
   },
   "file_extension": ".py",
   "mimetype": "text/x-python",
   "name": "python",
   "nbconvert_exporter": "python",
   "pygments_lexer": "ipython3",
   "version": "3.6.8"
  }
 },
 "nbformat": 4,
 "nbformat_minor": 2
}
